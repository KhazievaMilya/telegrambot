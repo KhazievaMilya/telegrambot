{
 "cells": [
  {
   "cell_type": "markdown",
   "metadata": {},
   "source": [
    "   # Код для поиска вакансий"
   ]
  },
  {
   "cell_type": "code",
   "execution_count": 1,
   "metadata": {},
   "outputs": [],
   "source": [
    "path = 'C:/Users/xazzz/Documents/'"
   ]
  },
  {
   "cell_type": "code",
   "execution_count": 2,
   "metadata": {},
   "outputs": [],
   "source": [
    "# Библиотека для работы с HTTP-запросами. Будем использовать ее для обращения к API HH\n",
    "import requests\n",
    " \n",
    "# Пакет для удобной работы с данными в формате json\n",
    "import json\n",
    " \n",
    "# Модуль для работы со значением времени\n",
    "import time\n",
    " \n",
    "# Модуль для работы с операционной системой. Будем использовать для работы с файлами\n",
    "import os"
   ]
  },
  {
   "cell_type": "code",
   "execution_count": 5,
   "metadata": {},
   "outputs": [],
   "source": [
    "def getPage(page = 0):\n",
    "    \"\"\"\n",
    "    Создаем метод для получения страницы со списком вакансий.\n",
    "    Аргументы:\n",
    "        page - Индекс страницы, начинается с 0. Значение по умолчанию 0, т.е. первая страница\n",
    "    \"\"\"\n",
    "     \n",
    "    # Справочник для параметров GET-запроса\n",
    "    params = {\n",
    "        'text': 'Аналитик SQL Python NOT !системный NOT !разработчик NOT !QA NOT !ведущий NOT !руководитель',\n",
    "        'area': 3, # Поиск ощуществляется по вакансиям города Екатеринбург\n",
    "        'period': 3, # За какое количество дней\n",
    "        'page': page, # Индекс страницы поиска на HH\n",
    "        'per_page': 100 # Кол-во вакансий на 1 странице\n",
    "    }\n",
    "     \n",
    "     \n",
    "    req = requests.get('https://api.hh.ru/vacancies', params) # Посылаем запрос к API\n",
    "    data = req.content.decode() # Декодируем его ответ, чтобы Кириллица отображалась корректно\n",
    "    req.close()\n",
    "    return data"
   ]
  },
  {
   "cell_type": "code",
   "execution_count": 6,
   "metadata": {},
   "outputs": [
    {
     "name": "stdout",
     "output_type": "stream",
     "text": [
      "Старницы поиска собраны\n"
     ]
    }
   ],
   "source": [
    "# Считываем первые 2000 вакансий\n",
    "for page in range(0, 20):\n",
    "     \n",
    "    # Преобразуем текст ответа запроса в справочник Python\n",
    "    jsObj = json.loads(getPage(page))\n",
    "     \n",
    "    # Сохраняем файлы в папку {путь до текущего документа со скриптом}\\docs\\pagination\n",
    "    # Определяем количество файлов в папке для сохранения документа с ответом запроса\n",
    "    # Полученное значение используем для формирования имени документа\n",
    "    nextFileName = path + '/Untitled Folder/{}.json'.format(len(os.listdir(path + '/Untitled Folder/')))\n",
    "     \n",
    "    # Создаем новый документ, записываем в него ответ запроса, после закрываем\n",
    "    f = open(nextFileName, mode='w', encoding='utf8')\n",
    "    f.write(json.dumps(jsObj, ensure_ascii=False))\n",
    "    f.close()\n",
    "     \n",
    "    # Проверка на последнюю страницу, если вакансий меньше 2000\n",
    "    if (jsObj['pages'] - page) <= 1:\n",
    "        break\n",
    "     \n",
    "    # Необязательная задержка, но чтобы не нагружать сервисы hh, оставим. 5 сек мы может подождать\n",
    "    time.sleep(0.25)\n",
    "     \n",
    "print('Старницы поиска собраны')"
   ]
  },
  {
   "cell_type": "code",
   "execution_count": 7,
   "metadata": {},
   "outputs": [
    {
     "name": "stdout",
     "output_type": "stream",
     "text": [
      "7\n"
     ]
    }
   ],
   "source": [
    " # Получаем перечень ранее созданных файлов со списком вакансий и проходимся по нему в цикле \n",
    "a = [i for i in os.listdir(path + '/Untitled Folder/') if not i.startswith('.')]\n",
    "new_list = []\n",
    "for fl in a:\n",
    "     \n",
    "    # Открываем файл, читаем его содержимое, закрываем файл\n",
    "    f = open(path + '/Untitled Folder/{}'.format(fl), encoding='utf8')\n",
    "    jsonText = f.read()\n",
    "    f.close()\n",
    "     \n",
    "    # Преобразуем полученный текст в объект справочника (создаю список с url вакансий - new.list)\n",
    "    jsonObj = json.loads(jsonText)\n",
    "    jsonObj_1 = jsonObj['items']\n",
    "    \n",
    "    #i = 0\n",
    "    #while i != len(jsonObj_1):\n",
    "    for i in range(len(jsonObj_1)):\n",
    "        for key, value in jsonObj_1[i].items():\n",
    "            if key == 'alternate_url':\n",
    "                new_list.append(value)\n",
    "        i += 1\n",
    "    print(len(jsonObj_1))"
   ]
  },
  {
   "cell_type": "markdown",
   "metadata": {},
   "source": [
    "# Код для отправки сообщения мне на телеграм"
   ]
  },
  {
   "cell_type": "code",
   "execution_count": 23,
   "metadata": {},
   "outputs": [],
   "source": [
    "import requests\n",
    "import json\n",
    "from urllib.parse import urlencode"
   ]
  },
  {
   "cell_type": "code",
   "execution_count": 9,
   "metadata": {},
   "outputs": [],
   "source": [
    "token = '5255431708:AAHFx9iDUF5Xq5xjiDZlvbmmEMHIZ2H-vlo'"
   ]
  },
  {
   "cell_type": "code",
   "execution_count": 16,
   "metadata": {},
   "outputs": [],
   "source": [
    "api_pattern = f'https://api.telegram.org/bot{token}'"
   ]
  },
  {
   "cell_type": "code",
   "execution_count": 17,
   "metadata": {},
   "outputs": [],
   "source": [
    "update = f'{api_pattern}/getUpdates'"
   ]
  },
  {
   "cell_type": "code",
   "execution_count": 18,
   "metadata": {},
   "outputs": [],
   "source": [
    "info = requests.get(update)"
   ]
  },
  {
   "cell_type": "code",
   "execution_count": 19,
   "metadata": {},
   "outputs": [
    {
     "data": {
      "text/plain": [
       "200"
      ]
     },
     "execution_count": 19,
     "metadata": {},
     "output_type": "execute_result"
    }
   ],
   "source": [
    "info.status_code"
   ]
  },
  {
   "cell_type": "code",
   "execution_count": 20,
   "metadata": {},
   "outputs": [
    {
     "data": {
      "text/plain": [
       "{'ok': True,\n",
       " 'result': [{'update_id': 897993610,\n",
       "   'message': {'message_id': 63,\n",
       "    'from': {'id': 487621444,\n",
       "     'is_bot': False,\n",
       "     'first_name': 'Миляуша',\n",
       "     'username': 'negolub',\n",
       "     'language_code': 'ru'},\n",
       "    'chat': {'id': 487621444,\n",
       "     'first_name': 'Миляуша',\n",
       "     'username': 'negolub',\n",
       "     'type': 'private'},\n",
       "    'date': 1645031823,\n",
       "    'text': '/start',\n",
       "    'entities': [{'offset': 0, 'length': 6, 'type': 'bot_command'}]}}]}"
      ]
     },
     "execution_count": 20,
     "metadata": {},
     "output_type": "execute_result"
    }
   ],
   "source": [
    "info.json()"
   ]
  },
  {
   "cell_type": "code",
   "execution_count": 21,
   "metadata": {},
   "outputs": [],
   "source": [
    "chat_id = 487621444"
   ]
  },
  {
   "cell_type": "code",
   "execution_count": 24,
   "metadata": {},
   "outputs": [
    {
     "ename": "NameError",
     "evalue": "name 'base_url' is not defined",
     "output_type": "error",
     "traceback": [
      "\u001b[1;31m---------------------------------------------------------------------------\u001b[0m",
      "\u001b[1;31mNameError\u001b[0m                                 Traceback (most recent call last)",
      "\u001b[1;32m<ipython-input-24-b8f18eed1eaf>\u001b[0m in \u001b[0;36m<module>\u001b[1;34m\u001b[0m\n\u001b[0;32m      3\u001b[0m     \u001b[0mparams\u001b[0m \u001b[1;33m=\u001b[0m \u001b[1;33m{\u001b[0m\u001b[1;34m'chat_id'\u001b[0m\u001b[1;33m:\u001b[0m \u001b[0mchat_id\u001b[0m\u001b[1;33m,\u001b[0m \u001b[1;34m'text'\u001b[0m\u001b[1;33m:\u001b[0m \u001b[0mmessage\u001b[0m\u001b[1;33m}\u001b[0m\u001b[1;33m\u001b[0m\u001b[1;33m\u001b[0m\u001b[0m\n\u001b[0;32m      4\u001b[0m     \u001b[0mase_url\u001b[0m \u001b[1;33m=\u001b[0m \u001b[1;34mf'https://api.telegram.org/bot{token}/'\u001b[0m\u001b[1;33m\u001b[0m\u001b[1;33m\u001b[0m\u001b[0m\n\u001b[1;32m----> 5\u001b[1;33m     \u001b[0murl\u001b[0m \u001b[1;33m=\u001b[0m \u001b[0mbase_url\u001b[0m \u001b[1;33m+\u001b[0m \u001b[1;34m'sendMessage?'\u001b[0m \u001b[1;33m+\u001b[0m \u001b[0murlencode\u001b[0m\u001b[1;33m(\u001b[0m\u001b[0mparams\u001b[0m\u001b[1;33m)\u001b[0m\u001b[1;33m\u001b[0m\u001b[1;33m\u001b[0m\u001b[0m\n\u001b[0m\u001b[0;32m      6\u001b[0m     \u001b[0mresp\u001b[0m \u001b[1;33m=\u001b[0m \u001b[0mrequests\u001b[0m\u001b[1;33m.\u001b[0m\u001b[0mget\u001b[0m\u001b[1;33m(\u001b[0m\u001b[0murl\u001b[0m\u001b[1;33m)\u001b[0m\u001b[1;33m\u001b[0m\u001b[1;33m\u001b[0m\u001b[0m\n",
      "\u001b[1;31mNameError\u001b[0m: name 'base_url' is not defined"
     ]
    }
   ],
   "source": [
    "for i in new_list:\n",
    "    message = i\n",
    "    params = {'chat_id': chat_id, 'text': message}\n",
    "    base_url = f'https://api.telegram.org/bot{token}/'\n",
    "    url = base_url + 'sendMessage?' + urlencode(params)\n",
    "    resp = requests.get(url)"
   ]
  },
  {
   "cell_type": "code",
   "execution_count": null,
   "metadata": {},
   "outputs": [],
   "source": []
  }
 ],
 "metadata": {
  "kernelspec": {
   "display_name": "Python 3",
   "language": "python",
   "name": "python3"
  },
  "language_info": {
   "codemirror_mode": {
    "name": "ipython",
    "version": 3
   },
   "file_extension": ".py",
   "mimetype": "text/x-python",
   "name": "python",
   "nbconvert_exporter": "python",
   "pygments_lexer": "ipython3",
   "version": "3.9.1"
  }
 },
 "nbformat": 4,
 "nbformat_minor": 4
}
